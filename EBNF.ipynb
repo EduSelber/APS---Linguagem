{
 "cells": [
  {
   "cell_type": "markdown",
   "id": "04548a00",
   "metadata": {},
   "source": [
    "## EBNF:\n",
    "\n",
    "program         = { statement } ;  \n",
    "\n",
    "statement       = var_decl| flow_stmt| io_stmt| if_stmt| while_stmt;  \n",
    "\n",
    "var_decl        = \"var\" identifier \";\" ;  \n",
    "\n",
    "flow_stmt       = identifier \"=>\" { operation \"=>\" } identifier \";\" ;  \n",
    "\n",
    "operation       = \"+\" int| \"-\" int| \"*\" int| \"/\" int| \"dup\"| \"neg\";  \n",
    "\n",
    "io_stmt         = \"read()\" \"=>\" identifier \";\"| identifier \"=>\" \"print()\" \";\" ;  \n",
    "\n",
    "if_stmt         = \"if\" condition \"{\" { statement } \"}\" [ \"else\" \"{\" { statement } \"}\" ] ;  \n",
    "\n",
    "while_stmt      = \"while\" condition \"{\" { statement } \"}\" ;  \n",
    "\n",
    "condition       = identifier comparator int ;  \n",
    "\n",
    "comparator      = \"==\" | \"!=\" | \"<\" | \"<=\" | \">\" | \">=\" ;  \n",
    "\n",
    "identifier      = letter { letter | digit | \"_\" } ;  \n",
    "\n",
    "int             = [\"-\"] digit { digit } ;  \n",
    "\n",
    "letter          = \"a\" | ... | \"z\" | \"A\" | ... | \"Z\" ;  \n",
    "\n",
    "digit           = \"0\" | \"1\" | \"2\" | \"3\" | \"4\" | \"5\" | \"6\" | \"7\" | \"8\" | \"9\" ;  "
   ]
  }
 ],
 "metadata": {
  "language_info": {
   "name": "python"
  }
 },
 "nbformat": 4,
 "nbformat_minor": 5
}
