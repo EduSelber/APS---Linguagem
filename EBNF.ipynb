{
 "cells": [
  {
   "cell_type": "markdown",
   "id": "04548a00",
   "metadata": {},
   "source": [
    "## EBNF:\n",
    "\n",
    "program = { statement } ;\n",
    "\n",
    "statement = shape_stmt| color_stmt| group_stmt| if_stmt| loop_stmt;\n",
    "\n",
    "shape_stmt = circle_stmt| rect_stmt| line_stmt ;\n",
    "\n",
    "circle_stmt = \"circulo\" \"x\" number \"y\" number \"raio\" number ;\n",
    "\n",
    "rect_stmt = \"retangulo\" \"x\" number \"y\" number \"largura\" number \"altura\" number ;\n",
    "\n",
    "line_stmt = \"linha\" \"x1\" number \"y1\" number \"x2\" number \"y2\" number ;\n",
    "\n",
    "color_stmt = \"cor\" string ;\n",
    "\n",
    "group_stmt = \"grupo\" \"{\" { statement } \"}\" [ transform_stmt ] ;\n",
    "\n",
    "transform_stmt = \"mover\" \"x\" number \"y\" number ;\n",
    "\n",
    "if_stmt = \"se\" condition \"{\" { statement } \"}\" ;\n",
    "\n",
    "loop_stmt = \"repetir\" number \"vezes\" \"{\" { statement } \"}\" ;\n",
    "\n",
    "condition = ( \"x\" | \"y\" | \"cor_atual\" ) comparator ( number | string ) ;\n",
    "\n",
    "comparator = \"==\" | \">\" | \"<\" | \">=\" | \"<=\" | \"!=\" ;\n",
    "\n",
    "string = '\"' { letter | digit} '\"' ;\n",
    "\n",
    "number = digit { digit } [ \".\" digit { digit } ] ;\n",
    "\n",
    "digit = \"0\" | \"1\" | \"2\" | \"3\" | \"4\" | \"5\" | \"6\" | \"7\" | \"8\" | \"9\" ;\n",
    "\n",
    "letter = \"a\" | \"b\" | \"c\" | ... | \"z\" | \"A\" | \"B\" | ... | \"Z\" ;"
   ]
  }
 ],
 "metadata": {
  "language_info": {
   "name": "python"
  }
 },
 "nbformat": 4,
 "nbformat_minor": 5
}
