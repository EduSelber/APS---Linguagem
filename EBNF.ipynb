{
 "cells": [
  {
   "cell_type": "markdown",
   "id": "04548a00",
   "metadata": {},
   "source": [
    "program         = { statement } ;\n",
    "\n",
    "statement       = (shape \";\" \n",
    "                 | color \";\" \n",
    "                 | assignment \";\" \n",
    "                 | conditional \n",
    "                 | loop \n",
    "                 | group ) ;\n",
    "\n",
    "shape           = circle | rect | line ;\n",
    "\n",
    "circle          = \"circulo\" \"x\" expr \"y\" expr \"raio\" expr ;\n",
    "\n",
    "rect            = \"retangulo\" \"x\" expr \"y\" expr \"largura\" expr \"altura\" expr ;\n",
    "\n",
    "line            = \"linha\" \"x1\" expr \"y1\" expr \"x2\" expr \"y2\" expr ;\n",
    "\n",
    "color           = \"cor\" string ;\n",
    "group           = \"grupo\" \"{\" { statement } \"}\" [ transform ] ;\n",
    "\n",
    "transform       = \"mover\" \"x\" expr \"y\" expr ;\n",
    "\n",
    "conditional     = \"se\" \"(\" condition \")\" \"{\" { statement } \"}\" [ \"senao\" \"{\" { statement } \"}\" ] ;\n",
    "\n",
    "loop            = \"repetir\" expr \"vezes\" \"{\" { statement } \"}\" ;\n",
    "\n",
    "assignment      = identifier assign_op expr ;\n",
    "\n",
    "assign_op       = \"=\" | \"+=\" | \"-=\" ;\n",
    "\n",
    "condition       = ( \"x\" | \"y\" | \"cor_atual\" | identifier ) comparator expr ;\n",
    "\n",
    "comparator      = \"==\" | \">\" | \"<\" | \">=\" | \"<=\" | \"!=\" ;\n",
    "\n",
    "expr            = term { (\"+\" | \"-\") term } ;\n",
    "\n",
    "term            = factor { (\"*\" | \"/\") factor } ;\n",
    "\n",
    "factor          = number | identifier | \"(\" expr \")\" ;\n",
    "\n",
    "string          = '\"' colorname '\"' ;\n",
    "\n",
    "colorname       = \"azul\" | \"vermelho\" | \"verde\" | \"amarelo\" | \"preto\" | \"branco\" | \"roxo\" | \"laranja\" | \"cinza\" ;\n",
    "\n",
    "identifier      = letter { letter | digit | \"_\" } ;\n",
    "\n",
    "number          = digit { digit } [ \".\" digit { digit } ] ;\n",
    "\n",
    "digit           = \"0\" | \"1\" | \"2\" | \"3\" | \"4\" | \"5\" | \"6\" | \"7\" | \"8\" | \"9\" ;\n",
    "\n",
    "letter          = \"a\" | \"b\" | \"c\" | ... | \"z\" | \"A\" | \"B\" | ... | \"Z\" ;\n"
   ]
  }
 ],
 "metadata": {
  "language_info": {
   "name": "python"
  }
 },
 "nbformat": 4,
 "nbformat_minor": 5
}
